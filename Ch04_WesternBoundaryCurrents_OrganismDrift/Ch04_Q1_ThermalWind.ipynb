{
 "cells": [
  {
   "cell_type": "markdown",
   "metadata": {},
   "source": [
    "### Deriving and calculating thermal wind balance\n",
    "\n",
    "Download the years 2020 of the ['potential temperature'](https://psl.noaa.gov/cgi-bin/db_search/DBListFiles.pl?did=98&tid=83478&vid=1913) and ['salinity'](https://psl.noaa.gov/cgi-bin/db_search/DBListFiles.pl?did=98&tid=83478&vid=1914) from the GODAS website at https://psl.noaa.gov/data/gridded/data.godas.html (via 'List of *.nc files'>'See list'>'Save Link as').\n",
    "\n",
    "Then, load the modules as"
   ]
  },
  {
   "cell_type": "code",
   "execution_count": 1,
   "metadata": {},
   "outputs": [],
   "source": [
    "import numpy as np\n",
    "import xarray as xr\n",
    "import matplotlib.pyplot as plt\n",
    "import cartopy.crs as ccrs\n",
    "import cartopy.feature as cfeature\n",
    "from cartopy.mpl.gridliner import LONGITUDE_FORMATTER\n",
    "import cmocean.cm as cmo\n",
    "import gsw"
   ]
  },
  {
   "cell_type": "markdown",
   "metadata": {},
   "source": [
    "Now open the the temperature files for 1980 and 2020 (where of course `datadir` should point to the directory where you saved the GODAS data)"
   ]
  },
  {
   "cell_type": "code",
   "execution_count": 2,
   "metadata": {},
   "outputs": [],
   "source": [
    "datadir ='/Users/erik/Downloads/'\n",
    "T = xr.open_dataset(datadir+'pottmp.2020.nc')\n",
    "S = xr.open_dataset(datadir+'salt.2020.nc')"
   ]
  },
  {
   "cell_type": "markdown",
   "metadata": {},
   "source": [
    "### Assignment\n",
    "**a)** First, derive (without using python) the thermal wind balance by combining the hydrostatic and the geostrophic balances"
   ]
  },
  {
   "cell_type": "markdown",
   "metadata": {},
   "source": []
  },
  {
   "cell_type": "markdown",
   "metadata": {},
   "source": [
    "**b)** Use the thermal wind balance to compute the meridional velocity $v$ in the upper 1800 m at 26N in the Atlantic Ocean from the GODAS temperature and salinity data for 2020. Assume a level of no motion at 1800 m.  Make a cross-sectional plot (longitude-depth) of this velocity.\n",
    "\n",
    "Hints:\n",
    "- You can use `np.cumsum(Dens[::-1], axis=0)[::-1]` to integrate from depth to the surface, where `Dens` is your array of density\\*dx\\*dz in each grid cell. \n",
    "- You can calculate dx with `dx = np.gradient(temp.lon*60*1852*np.cos(lat/180*np.pi))` and dz with `dZ = np.tile(np.gradient(salt.level), (temp.lon.size, 1)).T`\n",
    "- Don't forget to set all NaN values to zero before integrating: `Dens[np.isnan(Dens)] = 0`"
   ]
  },
  {
   "cell_type": "code",
   "execution_count": null,
   "metadata": {},
   "outputs": [],
   "source": []
  },
  {
   "cell_type": "markdown",
   "metadata": {},
   "source": [
    "**c** Compare the velocity you obtained from the thermal wind balance to that in the GODAS dataset itself. Why is there a difference between the observed velocity and the thermal wind velocity? Where is the difference largest?"
   ]
  },
  {
   "cell_type": "code",
   "execution_count": null,
   "metadata": {},
   "outputs": [],
   "source": []
  }
 ],
 "metadata": {
  "kernelspec": {
   "display_name": "Python 3",
   "language": "python",
   "name": "python3"
  },
  "language_info": {
   "codemirror_mode": {
    "name": "ipython",
    "version": 3
   },
   "file_extension": ".py",
   "mimetype": "text/x-python",
   "name": "python",
   "nbconvert_exporter": "python",
   "pygments_lexer": "ipython3",
   "version": "3.9.1"
  }
 },
 "nbformat": 4,
 "nbformat_minor": 4
}
