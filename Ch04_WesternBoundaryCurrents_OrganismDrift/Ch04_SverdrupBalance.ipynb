{
 "cells": [
  {
   "cell_type": "markdown",
   "metadata": {},
   "source": [
    "### Sverdrup Balance in observations\n"
   ]
  },
  {
   "cell_type": "code",
   "execution_count": null,
   "metadata": {},
   "outputs": [],
   "source": [
    "import numpy as np\n",
    "import xarray as xr\n",
    "import cartopy.crs as ccrs\n",
    "import cartopy.feature as cfeature\n",
    "import matplotlib.pyplot as plt"
   ]
  },
  {
   "cell_type": "code",
   "execution_count": null,
   "metadata": {},
   "outputs": [],
   "source": [
    "%matplotlib inline"
   ]
  },
  {
   "cell_type": "markdown",
   "metadata": {},
   "source": [
    "In this assignment, we are going to compute the Sverdrup streamfunction from the wind stress. As a reminder, the Sverdrup balance is\n",
    "\\begin{equation}\n",
    "    \\beta V = \\frac{\\vec{\\nabla} \\times \\vec{\\tau}}{\\rho}\n",
    "\\end{equation}"
   ]
  },
  {
   "cell_type": "markdown",
   "metadata": {},
   "source": [
    "Download the zonal and meridional GODAS momentum flux (=wind stress in [N/m$^2$]) files for one year from the GODAS website at https://psl.noaa.gov/data/gridded/data.godas.html (via 'List of *.nc files'>'See list'>'Save Link as') and use their time average from here on."
   ]
  },
  {
   "cell_type": "code",
   "execution_count": null,
   "metadata": {},
   "outputs": [],
   "source": [
    "# loading and inspecting\n",
    "data = '/Users/Andre/Downloads'\n",
    "uflx = xr.open_dataset(f'{data}/uflx.2020.nc')\n",
    "vflx = xr.open_dataset(f'{data}/vflx.2020.nc')\n",
    "taux = uflx.uflx.mean('time')\n",
    "tauv = vflx.vflx.mean('time')\n",
    "uflx"
   ]
  },
  {
   "cell_type": "markdown",
   "metadata": {},
   "source": [
    "#### (a) Determine the length (in m) of the grid cells in the x- and y-directions and plot them as a function of latitude. Also compute $\\beta$ as a function of latitude and plot it in the same figure with a secondary y-axis (using e.g. `ax.twinx()`)."
   ]
  },
  {
   "cell_type": "markdown",
   "metadata": {},
   "source": [
    "#### (b) Plot maps of (1) the zonal and (2) meridional wind stress components, (3) the total wind stress with streamlines (using `plt.streamplot()`), and (4) wind stress curl with its (5) zonal and (6) meridional components."
   ]
  },
  {
   "cell_type": "markdown",
   "metadata": {},
   "source": [
    "#### (c) Integrate the wind curl  to arrive at the Sverdrup streamfunction.\n",
    "$$ \\Psi = \\frac{1}{\\beta \\rho} \\int_{E}^{W} \\left( \\frac{d\\tau_{wy}}{dx}-\\frac{d\\tau_{wx}}{dy} \\right) dx$$\n",
    "\n",
    "There are two step:\n",
    "1. integrate East to West with the proper longitudinal grid size.\n",
    "2. fix discontinuity at the null meridian in the Atlantic.\n",
    "\n",
    "#### Why do you integrate East to West and not the other way around?\n",
    "\n",
    "Hints: \n",
    "- You should arrive at a plot similar to the one on slide 19 of lecture 6.\n",
    "- As always in pogramming, there are many roads to Rome. We would recommend keeping the data within the xarray DataArrays/Datasets as much as possible, but you could also use numpy arrays (and then have to keep track of your own indices).\n",
    "- the following code gives an example of how you can fix the null meridian issue in the Atlantic (in this case for a single latitude, this code easily extends to 2D):\n",
    "```\n",
    "example = xr.DataArray(dims=['lon'],\n",
    "                       coords={'lon':[1,2,3,4,256,257,258,359,360]},\n",
    "                       data=[5,4,2,np.nan,1,0,np.nan,3,0])\n",
    "# data representating:     (East-Atl.)..(S.Amer.)..(West-Atl.)    \n",
    "example.plot()  # here the West-Atlantic starts at 0 in the null meridian\n",
    "da_add = xr.zeros_like(example)\n",
    "da_add[-1] = example[0]\n",
    "for i in np.arange(2,10):  # fixing zero meridian\n",
    "    da_add[-i] += xr.where(np.isnan(example[-i]), np.nan, da_add[-i+1])\n",
    "fixed = (example+xr.where(np.isnan(da_add),0,da_add))\n",
    "fixed.plot()  # now the values continue smoothly across the Atlantic null meridian from East to West \n",
    "```"
   ]
  },
  {
   "cell_type": "markdown",
   "metadata": {},
   "source": [
    "#### (d) Explain the features that you see. How is the Sverdrup flow and what happens at the Western boundaries, the Aghulhas Retroflection, and in the Antarctic Circumpolar Current regions?"
   ]
  },
  {
   "cell_type": "code",
   "execution_count": null,
   "metadata": {},
   "outputs": [],
   "source": []
  }
 ],
 "metadata": {
  "kernelspec": {
   "display_name": "Python 3",
   "language": "python",
   "name": "python3"
  },
  "language_info": {
   "codemirror_mode": {
    "name": "ipython",
    "version": 3
   },
   "file_extension": ".py",
   "mimetype": "text/x-python",
   "name": "python",
   "nbconvert_exporter": "python",
   "pygments_lexer": "ipython3",
   "version": "3.6.10"
  }
 },
 "nbformat": 4,
 "nbformat_minor": 4
}
