{
 "cells": [
  {
   "cell_type": "markdown",
   "metadata": {},
   "source": [
    "### Calculating the global overturning circulation\n"
   ]
  },
  {
   "cell_type": "code",
   "execution_count": null,
   "metadata": {},
   "outputs": [],
   "source": [
    "import numpy as np\n",
    "import xarray as xr\n",
    "import cartopy.crs as ccrs\n",
    "import cartopy.feature as cfeature\n",
    "import matplotlib.pyplot as plt"
   ]
  },
  {
   "cell_type": "code",
   "execution_count": null,
   "metadata": {},
   "outputs": [],
   "source": [
    "%matplotlib inline"
   ]
  },
  {
   "cell_type": "markdown",
   "metadata": {},
   "source": [
    "In this assignment, we are going to calculate the global overturning circulation $\\Psi(y, z)$"
   ]
  },
  {
   "cell_type": "markdown",
   "metadata": {},
   "source": [
    "Download the GODAS meridional velocity files for one year from the GODAS website at https://psl.noaa.gov/data/gridded/data.godas.html (via 'List of *.nc files'>'See list'>'Save Link as') and use their time average from here on."
   ]
  },
  {
   "cell_type": "code",
   "execution_count": null,
   "metadata": {},
   "outputs": [],
   "source": [
    "# loading and inspecting\n",
    "data = '/Users/erik/Downloads'\n",
    "vcur = xr.open_dataset(f'{data}/vcur.2020.nc').vcur.mean('time')"
   ]
  },
  {
   "cell_type": "markdown",
   "metadata": {},
   "source": [
    "**(a)** Make a quick plot of the meridional velocity at the ocean surface"
   ]
  },
  {
   "cell_type": "code",
   "execution_count": null,
   "metadata": {},
   "outputs": [],
   "source": []
  },
  {
   "cell_type": "markdown",
   "metadata": {},
   "source": [
    "Use the code below to calculate the grid distances `dx`, `dy` and `dz` needed for the integration later"
   ]
  },
  {
   "cell_type": "code",
   "execution_count": null,
   "metadata": {},
   "outputs": [],
   "source": [
    "RE = 6.371e6  # [m] Earth radius\n",
    "dy = 2*np.pi*RE*(vcur.lat[1]-vcur.lat[0]).values/360  # grid size in y-direction\n",
    "dx = 2*np.pi*RE*((vcur.lon[1]-vcur.lon[0]).values*np.cos(np.deg2rad(vcur.lat)))/360\n",
    "\n",
    "dz = (vcur.level.shift(level=-1)-vcur.level.shift(level=1))/2\n",
    "dz[0]  = vcur.level[0] + (vcur.level[1]-vcur.level[0])/2\n",
    "dz[-1] = 1.5*(vcur.level[-1]-vcur.level[-2])"
   ]
  },
  {
   "cell_type": "markdown",
   "metadata": {},
   "source": [
    "**(b)** Create a matrix `Psi = np.zeros((vcur.shape[0], vcur.shape[1]))` and calculate $\\Psi(y, z)=\\int_{x_W}^{x_E}\\int_{-H}^{z}v(z, y, x)\\ dz\\ dx$. What patterns do you see?\n",
    "\n",
    "If you want, you can do this in two steps, each within a double `for`-loop (over `z` and `y`):\n",
    "1. Calculate `v_x[z, y]=np.nansum(vcur[z, y, :])*dx[y]*dz[z]` to integrate over all longitudes.\n",
    "2. Sum from the bottom upward to calculate `Psi[z, y]`. Note that you may need to multiply by `-1` because of the 'inverse' integration (why?)"
   ]
  },
  {
   "cell_type": "code",
   "execution_count": null,
   "metadata": {},
   "outputs": [],
   "source": []
  },
  {
   "cell_type": "markdown",
   "metadata": {},
   "source": [
    "**c)** Now redo the computation in b for only latitudes 20S-60N and longitudes 280E-360E. How does the pattern of $\\Psi(y, z)$ differ to the one for the global circulation? How does it compare to the model-derived overturning streamfunctions shown in the lecture?"
   ]
  },
  {
   "cell_type": "code",
   "execution_count": null,
   "metadata": {},
   "outputs": [],
   "source": []
  }
 ],
 "metadata": {
  "kernelspec": {
   "display_name": "Python 3",
   "language": "python",
   "name": "python3"
  },
  "language_info": {
   "codemirror_mode": {
    "name": "ipython",
    "version": 3
   },
   "file_extension": ".py",
   "mimetype": "text/x-python",
   "name": "python",
   "nbconvert_exporter": "python",
   "pygments_lexer": "ipython3",
   "version": "3.6.10"
  }
 },
 "nbformat": 4,
 "nbformat_minor": 4
}
