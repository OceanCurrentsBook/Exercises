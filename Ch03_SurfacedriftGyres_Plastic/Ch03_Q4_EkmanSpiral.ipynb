{
 "cells": [
  {
   "cell_type": "markdown",
   "metadata": {},
   "source": [
    "## Plotting the Ekman spiral"
   ]
  },
  {
   "cell_type": "markdown",
   "metadata": {},
   "source": [
    "### a) The top Ekman spiral\n",
    "\n",
    "The equations for the Ekman spiral are \n",
    "\n",
    "\\begin{align}\n",
    "    u_E (z) & = u_s \\cos⁡\\left(\\frac{𝜋}{4} + \\frac{\\pi}{D} z\\right) e^{\\frac{\\pi}{D}z} \\\\\n",
    "    v_E (z) & = -u_s \\sin⁡\\left(\\frac{𝜋}{4} + \\frac{\\pi}{D} z\\right) e^{\\frac{\\pi}{D}z}\n",
    "\\end{align}\n",
    " \n",
    "\n",
    "Where $u_s = 1$ m/s is the flow at the surface and $D=\\pi\\sqrt{2K/f}$ is the Ekman layer thickness.  \n",
    "\n",
    "Plot these two functions for $f=10^{-4} s^{-1}$, $K=2\\times10^{-2} m^2/s$ and `z=np.arange(-100, 0.01, 5)`. \n",
    "\n",
    "Make three plots:\n",
    "1. $u_E$ and $v_E$ as two lines as a function of depth. Put depth on the y-axis\n",
    "2. A scatter-line-plot of $u_E$ vs. $v_E$, with each point color-coded for depth\n",
    "3. a 3D quiver plot, you can use the code below to show the vector components $u_E$ and $v_E$\n",
    "\n",
    "    ```\n",
    "    import matplotlib.pyplot as plt\n",
    "    from mpl_toolkits.mplot3d import Axes3D \n",
    "    fig = plt.figure(figsize=(7, 5)) \n",
    "    ax = fig.gca(projection='3d') \n",
    "    zs = np.zeros(len(z)) \n",
    "    ax.set_xlim((-.1,.1))\n",
    "    ax.set_ylim((-.1,.1))\n",
    "    ax.set_zlim((-100,0))\n",
    "    ax.quiver(zs, zs, z, uE, vE, zs) \n",
    "    ax.set_xlabel('zonal velocity [m/s]') \n",
    "    ax.set_ylabel('meridional velocity [m/s]') \n",
    "    ax.set_zlabel('Depth [m]') \n",
    "    plt.show()\n",
    "    ```\n",
    "    \n",
    "Explain the figures."
   ]
  },
  {
   "cell_type": "code",
   "execution_count": null,
   "metadata": {},
   "outputs": [],
   "source": []
  },
  {
   "cell_type": "markdown",
   "metadata": {},
   "source": [
    "### b) Bottom Ekman Layer\n",
    "At the bottom there is also an Ekman layer, but only if the ocean interior geostrophic velocity is non-zero so that a no-slip boundary condition can be satisfied. The Ekman spiral looks like this:\n",
    "\n",
    "\n",
    "\\begin{align}\n",
    "    u_E (z) & = u_g - e^{z/D} \\left[u_g \\cos(z/D) + v_g \\sin(z/D) \\right] \\\\\n",
    "    v_E (z) & = v_g + e^{z/D} \\left[u_g \\sin(z/D) - v_g \\cos(z/D) \\right]\n",
    "\\end{align}\n",
    "\n",
    "Here $u_g$ and $v_g$ are the geoestrophic velocities in the ocean's interior.\n",
    "\n",
    "The derivation is similar to that of the surface Ekman layer and can be found in chapter 5.7.3 of _Atmospheric and Oceanic Fluid Dynamics_ (2nd edition) by Vallis or chapter 5.3.2 of _Dynamical Oceanography_ by Dijkstra.\n",
    "\n",
    "Plot the same three figures as in (a) for $u_g = 0.1 m/s$, $v_g = 0 m/s$, and assuming the same $D$ and $f$ for the 250 meters above the sea floor (for simplicity, the sea floor can now be set to 0 and $z$ is still pointing up).\n",
    "\n",
    "Explain the figures."
   ]
  },
  {
   "cell_type": "code",
   "execution_count": null,
   "metadata": {},
   "outputs": [],
   "source": []
  }
 ],
 "metadata": {
  "kernelspec": {
   "display_name": "Python 3",
   "language": "python",
   "name": "python3"
  },
  "language_info": {
   "codemirror_mode": {
    "name": "ipython",
    "version": 3
   },
   "file_extension": ".py",
   "mimetype": "text/x-python",
   "name": "python",
   "nbconvert_exporter": "python",
   "pygments_lexer": "ipython3",
   "version": "3.9.1"
  }
 },
 "nbformat": 4,
 "nbformat_minor": 4
}
