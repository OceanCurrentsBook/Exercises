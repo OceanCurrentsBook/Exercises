{
 "cells": [
  {
   "cell_type": "markdown",
   "metadata": {},
   "source": [
    "### Antarctic Circumpolar Current volume transport\n",
    "\n",
    "In this exercise we calculate the volume transport through Drake Passage, between South Africa and Antarctica, and between Australia and Antarctica. Download the GODAS zonal velocity for the year 2020 from the GODAS website at https://psl.noaa.gov/data/gridded/data.godas.html (via 'List of *.nc files'>'See list'>'Save Link as') for this exercise."
   ]
  },
  {
   "cell_type": "code",
   "execution_count": null,
   "metadata": {},
   "outputs": [],
   "source": [
    "import numpy as np\n",
    "import xarray as xr\n",
    "import cartopy\n",
    "import cartopy.crs as ccrs\n",
    "import matplotlib\n",
    "import matplotlib.pyplot as plt\n",
    "%matplotlib inline"
   ]
  },
  {
   "cell_type": "code",
   "execution_count": null,
   "metadata": {},
   "outputs": [],
   "source": [
    "data = '/Users/erik/Downloads/'  # you'll need to change this\n",
    "U = xr.open_dataset(f'{data}/ucur.2020.nc').ucur\n",
    "umean = U.mean('time')"
   ]
  },
  {
   "cell_type": "markdown",
   "metadata": {},
   "source": [
    "**(a)** Plot the time mean zonal velocity at 50 m depth (using `umean.sel(level=50, method='nearest')`) with a SouthPolarStereo projection (using `ax = fig.add_subplot(111, projection=ccrs.SouthPolarStereo())`). Draw lines for the sections across Drake Passage (at 295E), between South Africa and Antarctica (at 18.5E), and between Australia and Antarctica (at 147E). "
   ]
  },
  {
   "cell_type": "code",
   "execution_count": null,
   "metadata": {},
   "outputs": [],
   "source": []
  },
  {
   "cell_type": "markdown",
   "metadata": {},
   "source": [
    "**(b)** Plot the time mean zonal velocity in the Drake Passage between South Africa and Antarctica, and between Australia and Antarcica as a function of depth and latitude. Explain the structures you see.\n",
    "\n",
    "Hint: You can use the statement `ax.pcolormesh(U.lat.sel(lat=lat),-U.level, umean.sel(lon=lon, method='nearest').sel(lat=lat))` where `lat` is a `slice()` between two latitudes and `lon` is a value for a longitude (in degrees)"
   ]
  },
  {
   "cell_type": "code",
   "execution_count": null,
   "metadata": {},
   "outputs": [],
   "source": []
  },
  {
   "cell_type": "markdown",
   "metadata": {},
   "source": [
    "**(c)** Plot the volume transport integrated over the meridional extent of the sections as a function of depth ($\\int_S^N u\\, \\mathrm{d}y$) in units of [10$^3$ m$^3$/s/m]$=$[10$^3$ m$^2$/s]$=$[1 Sv/km]. What does the structure suggest about the balance of forces in the ACC? Does the Sverdrup balance hold?\n",
    "\n",
    "Hint: You can use that `dy = 2*np.pi*RE*(U.lat[1]-U.lat[0]).values/360` with `RE = 6.371e6` the radius of the earth.\n",
    "\n",
    "You can use `plt.plot((umean*dy).sel(lat=lat).sum('lat').sel(lon=lon, method='nearest')/1e3, -U.level`) to then plot the Volume transport per depth"
   ]
  },
  {
   "cell_type": "code",
   "execution_count": null,
   "metadata": {},
   "outputs": [],
   "source": []
  },
  {
   "cell_type": "markdown",
   "metadata": {},
   "source": [
    "**(d)** Plot time series of the volume transport values across the three sections in units of [$10^6$ m$^3$/s]$=$[1 Sv](monthly values for the one year of GODAS data). What are the mean values, how large is the variability, and how well are the time series correlated?\n",
    "\n",
    "Hint: you can use the code below for calculating the thickness (`dz`) of each level\n",
    "```\n",
    "dz = xr.zeros_like(U.level)\n",
    "dz[0] = 10.\n",
    "for k in range(1,len(dz)):\n",
    "    dz[k] = 2*(U.level[k]-dz[:k].sum())\n",
    "```\n",
    "\n",
    "And you can calculate the transport with `transport=(U*dy*dz).sel(lat=lat).sum(['lat','level']).sel(lon=lon, method='nearest')`. You can then calculate the mean of the transport with `transport.mean(\"time\")` and the variability with `transport.std(\"time\")`. You can use `np.corrcoef([t1, t2, t3)` where `t1`, `t2` and `t3` are the three transports to calculate the correlation coefficients"
   ]
  },
  {
   "cell_type": "code",
   "execution_count": null,
   "metadata": {},
   "outputs": [],
   "source": []
  }
 ],
 "metadata": {
  "kernelspec": {
   "display_name": "Python 3",
   "language": "python",
   "name": "python3"
  },
  "language_info": {
   "codemirror_mode": {
    "name": "ipython",
    "version": 3
   },
   "file_extension": ".py",
   "mimetype": "text/x-python",
   "name": "python",
   "nbconvert_exporter": "python",
   "pygments_lexer": "ipython3",
   "version": "3.6.10"
  }
 },
 "nbformat": 4,
 "nbformat_minor": 4
}
